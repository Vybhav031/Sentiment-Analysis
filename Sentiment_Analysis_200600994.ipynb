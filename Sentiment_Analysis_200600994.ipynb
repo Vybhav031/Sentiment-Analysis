{
 "cells": [
  {
   "cell_type": "code",
   "execution_count": 42,
   "id": "cc969df4-a5fa-4d14-a148-6fed6229c6ec",
   "metadata": {},
   "outputs": [],
   "source": [
    "import pandas as pd\n",
    "from textblob import TextBlob"
   ]
  },
  {
   "cell_type": "code",
   "execution_count": 44,
   "id": "d56e8fb0-440d-4b23-8f5f-be43f0a540de",
   "metadata": {},
   "outputs": [
    {
     "name": "stdout",
     "output_type": "stream",
     "text": [
      "Dataset Loaded Successfully!\n",
      "   Unnamed: 0.1  Unnamed: 0  \\\n",
      "0             0           0   \n",
      "1             1           1   \n",
      "2             2           2   \n",
      "3             3           3   \n",
      "4             4           4   \n",
      "\n",
      "                                                Text    Sentiment  \\\n",
      "0   Enjoying a beautiful day at the park!        ...   Positive     \n",
      "1   Traffic was terrible this morning.           ...   Negative     \n",
      "2   Just finished an amazing workout! 💪          ...   Positive     \n",
      "3   Excited about the upcoming weekend getaway!  ...   Positive     \n",
      "4   Trying out a new recipe for dinner tonight.  ...   Neutral      \n",
      "\n",
      "             Timestamp            User     Platform  \\\n",
      "0  2023-01-15 12:30:00   User123          Twitter     \n",
      "1  2023-01-15 08:45:00   CommuterX        Twitter     \n",
      "2  2023-01-15 15:45:00   FitnessFan      Instagram    \n",
      "3  2023-01-15 18:20:00   AdventureX       Facebook    \n",
      "4  2023-01-15 19:55:00   ChefCook        Instagram    \n",
      "\n",
      "                                     Hashtags  Retweets  Likes       Country  \\\n",
      "0   #Nature #Park                                  15.0   30.0     USA         \n",
      "1   #Traffic #Morning                               5.0   10.0     Canada      \n",
      "2   #Fitness #Workout                              20.0   40.0   USA           \n",
      "3   #Travel #Adventure                              8.0   15.0     UK          \n",
      "4   #Cooking #Food                                 12.0   25.0    Australia    \n",
      "\n",
      "   Year  Month  Day  Hour  \n",
      "0  2023      1   15    12  \n",
      "1  2023      1   15     8  \n",
      "2  2023      1   15    15  \n",
      "3  2023      1   15    18  \n",
      "4  2023      1   15    19  \n"
     ]
    }
   ],
   "source": [
    "# Load the dataset\n",
    "file_path = r\"C:\\Users\\vaibh\\Downloads\\sentimentdataset.csv\"\n",
    "data = pd.read_csv(file_path)\n",
    "\n",
    "# Check the first few rows to understand the structure\n",
    "print(\"Dataset Loaded Successfully!\")\n",
    "print(data.head())"
   ]
  },
  {
   "cell_type": "code",
   "execution_count": 46,
   "id": "fbcbeeea-e8f1-44a4-8f07-d41b0ea623db",
   "metadata": {},
   "outputs": [
    {
     "name": "stdout",
     "output_type": "stream",
     "text": [
      "Text data cleaned!\n",
      "                                                Text  \\\n",
      "0   Enjoying a beautiful day at the park!        ...   \n",
      "1   Traffic was terrible this morning.           ...   \n",
      "2   Just finished an amazing workout! 💪          ...   \n",
      "3   Excited about the upcoming weekend getaway!  ...   \n",
      "4   Trying out a new recipe for dinner tonight.  ...   \n",
      "\n",
      "                                        Cleaned_Text  \n",
      "0   enjoying a beautiful day at the park         ...  \n",
      "1   traffic was terrible this morning            ...  \n",
      "2   just finished an amazing workout                  \n",
      "3   excited about the upcoming weekend getaway   ...  \n",
      "4   trying out a new recipe for dinner tonight   ...  \n"
     ]
    }
   ],
   "source": [
    "# Function to clean the text data\n",
    "import re\n",
    "\n",
    "def clean_text(text):\n",
    "    # Remove URLs\n",
    "    text = re.sub(r\"http\\S+\", \"\", text)\n",
    "    # Remove special characters, numbers, and punctuations\n",
    "    text = re.sub(r\"[^a-zA-Z\\s]\", \"\", text)\n",
    "    # Convert text to lowercase\n",
    "    text = text.lower()\n",
    "    return text\n",
    "\n",
    "# Apply the cleaning function\n",
    "data['Cleaned_Text'] = data['Text'].apply(clean_text)\n",
    "print(\"Text data cleaned!\")\n",
    "\n",
    "# Display a preview\n",
    "print(data[['Text', 'Cleaned_Text']].head())\n"
   ]
  },
  {
   "cell_type": "code",
   "execution_count": 48,
   "id": "4e5d2ec6-80ab-468c-8f2c-898696ab97a5",
   "metadata": {},
   "outputs": [
    {
     "name": "stdout",
     "output_type": "stream",
     "text": [
      "Sentiment analysis performed!\n",
      "                                        Cleaned_Text  Sentiment_Polarity  \\\n",
      "0   enjoying a beautiful day at the park         ...            0.675000   \n",
      "1   traffic was terrible this morning            ...           -1.000000   \n",
      "2   just finished an amazing workout                            0.600000   \n",
      "3   excited about the upcoming weekend getaway   ...            0.375000   \n",
      "4   trying out a new recipe for dinner tonight   ...            0.136364   \n",
      "\n",
      "  Sentiment_Category  \n",
      "0           Positive  \n",
      "1           Negative  \n",
      "2           Positive  \n",
      "3           Positive  \n",
      "4           Positive  \n"
     ]
    }
   ],
   "source": [
    "# Calculate sentiment polarity\n",
    "data['Sentiment_Polarity'] = data['Cleaned_Text'].apply(analyze_sentiment)\n",
    "\n",
    "# Categorize the sentiment\n",
    "data['Sentiment_Category'] = data['Sentiment_Polarity'].apply(categorize_sentiment)\n",
    "\n",
    "print(\"Sentiment analysis performed!\")\n",
    "print(data[['Cleaned_Text', 'Sentiment_Polarity', 'Sentiment_Category']].head())"
   ]
  },
  {
   "cell_type": "code",
   "execution_count": 56,
   "id": "77968086-621c-4218-a4ac-0e73a06b29aa",
   "metadata": {},
   "outputs": [
    {
     "name": "stdout",
     "output_type": "stream",
     "text": [
      "Results saved to 'sentiment_analysis_results_cleaned.csv'.\n"
     ]
    }
   ],
   "source": [
    "# Save the results to a file\n",
    "output_file = \"sentiment_analysis_results_cleaned.csv\"\n",
    "data.to_csv(output_file, index=False)\n",
    "\n",
    "print(f\"Results saved to '{output_file}'.\")\n"
   ]
  },
  {
   "cell_type": "code",
   "execution_count": 58,
   "id": "34f98273-34d2-464d-8e4c-309e3700e3bf",
   "metadata": {},
   "outputs": [
    {
     "data": {
      "image/png": "[encoded data removed]",
      "text/plain": [
       "<Figure size 640x480 with 1 Axes>"
      ]
     },
     "metadata": {},
     "output_type": "display_data"
    }
   ],
   "source": [
    "import matplotlib.pyplot as plt\n",
    "\n",
    "# Count the number of each sentiment category\n",
    "sentiment_counts = data['Sentiment_Category'].value_counts()\n",
    "\n",
    "# Create a bar chart\n",
    "plt.bar(sentiment_counts.index, sentiment_counts.values)\n",
    "plt.title(\"Sentiment Analysis Results\")\n",
    "plt.xlabel(\"Sentiment Category\")\n",
    "plt.ylabel(\"Number of Texts\")\n",
    "plt.show()"
   ]
  },
  {
   "cell_type": "code",
   "execution_count": null,
   "id": "08ef89c8-1905-4957-8ff3-f1dbb3f20658",
   "metadata": {},
   "outputs": [],
   "source": []
  }
 ],
 "metadata": {
  "kernelspec": {
   "display_name": "Python 3 (ipykernel)",
   "language": "python",
   "name": "python3"
  },
  "language_info": {
   "codemirror_mode": {
    "name": "ipython",
    "version": 3
   },
   "file_extension": ".py",
   "mimetype": "text/x-python",
   "name": "python",
   "nbconvert_exporter": "python",
   "pygments_lexer": "ipython3",
   "version": "3.11.7"
  }
 },
 "nbformat": 4,
 "nbformat_minor": 5
}
